age = int(input("enter your age"))
if(age>=18):
    print("you are eligible to vote")
    vote = int(input("press 1 for CONGRESS:\n press 2 for BJP:\n press 3 for AAP:\n press 4 for JMM:\n press 5 for NONE:\n" ))
    if(vote==1):
        print("thank you for voting CONGRESS")
    elif(vote==2):
        print("thank you for voting to BJP")
    elif(vote==3):
        print("thank you for voting to AAP")
    elif(vote==4):
        print("thank you for voting to JMM")
    else:
        print("you have voted none")
else:
    print("you are not eligible to vote")
    
