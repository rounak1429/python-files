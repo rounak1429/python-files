{
 "cells": [
  {
   "cell_type": "code",
   "execution_count": 1,
   "id": "ec2592ce-4168-490c-b2c4-0cb4964730c5",
   "metadata": {},
   "outputs": [
    {
     "name": "stdin",
     "output_type": "stream",
     "text": [
      "enter your age 25\n"
     ]
    },
    {
     "name": "stdout",
     "output_type": "stream",
     "text": [
      "you are eligible to vote\n"
     ]
    },
    {
     "name": "stdin",
     "output_type": "stream",
     "text": [
      "press 1 for CONGRESS:\n",
      " press 2 for BJP:\n",
      " press 3 for AAP:\n",
      " press 4 for JMM:\n",
      " press 5 for NONE:\n",
      " 4\n"
     ]
    },
    {
     "name": "stdout",
     "output_type": "stream",
     "text": [
      "thank you for voting to JMM\n"
     ]
    }
   ],
   "source": [
    "age = int(input(\"enter your age\"))\n",
    "if(age>=18):\n",
    "    print(\"you are eligible to vote\")\n",
    "    vote = int(input(\"press 1 for CONGRESS:\\n press 2 for BJP:\\n press 3 for AAP:\\n press 4 for JMM:\\n press 5 for NONE:\\n\" ))\n",
    "    if(vote==1):\n",
    "        print(\"thank you for voting CONGRESS\")\n",
    "    elif(vote==2):\n",
    "        print(\"thank you for voting to BJP\")\n",
    "    elif(vote==3):\n",
    "        print(\"thank you for voting to AAP\")\n",
    "    elif(vote==4):\n",
    "        print(\"thank you for voting to JMM\")\n",
    "    else:\n",
    "        print(\"you have voted none\")\n",
    "else:\n",
    "    print(\"you are not eligible to vote\")\n",
    "    "
   ]
  },
  {
   "cell_type": "code",
   "execution_count": null,
   "id": "1eef1b85-74f8-4978-8ff8-8db9e7f46db0",
   "metadata": {},
   "outputs": [],
   "source": [
    "\n",
    "\n",
    "\n",
    "\n"
   ]
  },
  {
   "cell_type": "code",
   "execution_count": null,
   "id": "44dfab48-da31-455f-ad98-2cce7fb0cda8",
   "metadata": {},
   "outputs": [],
   "source": []
  }
 ],
 "metadata": {
  "kernelspec": {
   "display_name": "Python 3 (ipykernel)",
   "language": "python",
   "name": "python3"
  },
  "language_info": {
   "codemirror_mode": {
    "name": "ipython",
    "version": 3
   },
   "file_extension": ".py",
   "mimetype": "text/x-python",
   "name": "python",
   "nbconvert_exporter": "python",
   "pygments_lexer": "ipython3",
   "version": "3.12.4"
  }
 },
 "nbformat": 4,
 "nbformat_minor": 5
}
