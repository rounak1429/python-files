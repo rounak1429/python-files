{
 "cells": [
  {
   "cell_type": "code",
   "execution_count": 26,
   "id": "d9be5da3-7f3b-4948-bd38-ee9be5f6a67a",
   "metadata": {},
   "outputs": [
    {
     "name": "stdin",
     "output_type": "stream",
     "text": [
      "give start point:  2\n",
      "give end point:  50\n",
      "give updation:  2\n",
      "horizontal or vertical:  v\n",
      "forward or backward:  forward\n"
     ]
    },
    {
     "name": "stdout",
     "output_type": "stream",
     "text": [
      "2\n",
      "4\n",
      "6\n",
      "8\n",
      "10\n",
      "12\n",
      "14\n",
      "16\n",
      "18\n",
      "20\n",
      "22\n",
      "24\n",
      "26\n",
      "28\n",
      "30\n",
      "32\n",
      "34\n",
      "36\n",
      "38\n",
      "40\n",
      "42\n",
      "44\n",
      "46\n",
      "48\n",
      "50\n"
     ]
    }
   ],
   "source": [
    "# MAKE A MINI PROJECT IN WHICH TAKING THE INPUT FROM THE USER FOR START POINT, END POINT, UPDATION AND PRINT THE NUMBERS \n",
    "# EITHER IN REVERSE ORDER OR FORWARD ORDER IN HORIZONTAL OR VERTICAL\n",
    "s = int(input(\"give start point: \"))\n",
    "e = int(input(\"give end point: \"))\n",
    "u = int(input(\"give updation: \"))\n",
    "a = input(\"horizontal or vertical: \")\n",
    "y = input(\"forward or backward: \")\n",
    "if(y=='forward'):\n",
    "    for i in range(s,e+1,u):\n",
    "      if(a=='h'):\n",
    "          print(i,end=\" \")\n",
    "      elif(a=='v'): \n",
    "          print(i)\n",
    "      else:\n",
    "          print(\"wrong input\")\n",
    "elif(y=='backward'):\n",
    "    for i in range(e,s-1,-u):\n",
    "      if(a=='h'):\n",
    "          print(i,end=\" \")\n",
    "      elif(a=='v'): \n",
    "          print(i)\n",
    "      else:\n",
    "          print(\"wrong input\")     \n",
    "else:\n",
    "          print(\"wrong input\")"
   ]
  },
  {
   "cell_type": "code",
   "execution_count": null,
   "id": "0fa8c16e-75ea-4cb4-bc07-7b5d802c9ac1",
   "metadata": {},
   "outputs": [],
   "source": []
  }
 ],
 "metadata": {
  "kernelspec": {
   "display_name": "Python 3 (ipykernel)",
   "language": "python",
   "name": "python3"
  },
  "language_info": {
   "codemirror_mode": {
    "name": "ipython",
    "version": 3
   },
   "file_extension": ".py",
   "mimetype": "text/x-python",
   "name": "python",
   "nbconvert_exporter": "python",
   "pygments_lexer": "ipython3",
   "version": "3.12.4"
  }
 },
 "nbformat": 4,
 "nbformat_minor": 5
}
